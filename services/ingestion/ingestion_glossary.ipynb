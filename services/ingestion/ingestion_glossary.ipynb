{
 "cells": [
  {
   "cell_type": "markdown",
   "metadata": {},
   "source": [
    "Existen diversos glosarios. Se ha tomado el más reciente, que también es el más extenso, y especialmente porque tiene un patrón fácilmente identificable para trasladar los datos del pdf a un fichero json."
   ]
  },
  {
   "cell_type": "code",
   "execution_count": 1,
   "metadata": {},
   "outputs": [
    {
     "name": "stdout",
     "output_type": "stream",
     "text": [
      "Collecting PyMuPDF\n",
      "  Downloading PyMuPDF-1.24.4-cp310-none-manylinux2014_x86_64.whl (3.5 MB)\n",
      "\u001b[2K     \u001b[90m━━━━━━━━━━━━━━━━━━━━━━━━━━━━━━━━━━━━━━━━\u001b[0m \u001b[32m3.5/3.5 MB\u001b[0m \u001b[31m6.8 MB/s\u001b[0m eta \u001b[36m0:00:00\u001b[0m00:01\u001b[0m00:01\u001b[0m\n",
      "\u001b[?25hCollecting PyMuPDFb==1.24.3\n",
      "  Downloading PyMuPDFb-1.24.3-py3-none-manylinux2014_x86_64.manylinux_2_17_x86_64.whl (15.8 MB)\n",
      "\u001b[2K     \u001b[90m━━━━━━━━━━━━━━━━━━━━━━━━━━━━━━━━━━━━━━━━\u001b[0m \u001b[32m15.8/15.8 MB\u001b[0m \u001b[31m17.8 MB/s\u001b[0m eta \u001b[36m0:00:00\u001b[0m00:01\u001b[0m00:01\u001b[0m\n",
      "\u001b[?25hInstalling collected packages: PyMuPDFb, PyMuPDF\n",
      "Successfully installed PyMuPDF-1.24.4 PyMuPDFb-1.24.3\n"
     ]
    }
   ],
   "source": [
    "!pip install PyMuPDF"
   ]
  },
  {
   "cell_type": "code",
   "execution_count": 5,
   "metadata": {},
   "outputs": [],
   "source": [
    "import fitz  # PyMuPDF\n",
    "import os\n",
    "import re\n",
    "import json"
   ]
  },
  {
   "cell_type": "code",
   "execution_count": 43,
   "metadata": {},
   "outputs": [
    {
     "name": "stdout",
     "output_type": "stream",
     "text": [
      "El directorio expert_docs/context_docs_Assembly_1/glossary/ está listo para ser utilizado.\n",
      "informe de base (solo en inglés) para consultar las unidades \n",
      "estándar, los prefijos y la conversión de unidades (sección A.II.1) \n",
      "así como las regiones y agrupaciones de países (sección A.II.2).\n",
      "Acceso a la energía (energy access): Acceso a servicios energéticos \n",
      "limpios, fiables y asequibles para la cocina y la calefacción, la ilumina-\n",
      "ción, las comunicaciones y usos productivos (Grupo asesor sobre ener-\n",
      "gía y cambio climático, 2010).\n",
      "Acción voluntaria (voluntary action): Programas informales, com-\n",
      "promisos propios y declaraciones en las que las partes involucradas \n",
      "en la acción (compañías o grupos de compañías) establecen sus pro-\n",
      "pias metas y, a menudo, crean sus propios sistemas de seguimiento y \n",
      "reporte.\n",
      "Acuerdo (agreement): En el presente Informe, el grado de acuerdo es \n",
      "el nivel de coincidencia en la literatura científica acerca de una conclu-\n",
      "sión determinada, según la evaluación de los autores. Véanse también \n",
      "Evidencia, Confianza, Probabilidad e Incertidumbre.\n",
      "Acuerdo de Copenhague (Copenhagen Accord): Acuerdo político \n",
      "(sin carácter jurídico) al que se llegó en el 15º período de sesiones de \n",
      "la Conferencia de las Partes (CP) en el que los delegados ‘convinieron \n",
      "en tomar nota’, debido a la ausencia de consenso que precisaría un \n",
      "acuerdo. Algunos de los principales elementos incluyen: el reconoci-\n",
      "miento de la importancia de la opinión científica acerca de la necesi-\n",
      "dad de limitar el aumento en la temperatura media global en super-\n",
      "ficie por debajo de 2 °C; el com\n"
     ]
    }
   ],
   "source": [
    "\n",
    "INPUT_DIR = \"expert_docs/context_docs_Assembly_1/glossary/\"\n",
    "TF_DIR = \"expert_docs/context_docs_Assembly_1/glossary/transformations01/\"\n",
    "# Check if the directory exists\n",
    "if os.path.exists(INPUT_DIR):\n",
    "    print(f\"El directorio {INPUT_DIR} está listo para ser utilizado.\")\n",
    "else:\n",
    "    print(f\"Error: El directorio {INPUT_DIR} no existe. Verifica la configuración.\")\n",
    "\n",
    "# Abrir el archivo PDF\n",
    "pdf_document = \"expert_docs/context_docs_Assembly_1/glossary/AR5_WG3_glossary_ES.pdf\"\n",
    "document = fitz.open(pdf_document)\n",
    "\n",
    "# Ignorar la primera página (portada)\n",
    "text = \"\"\n",
    "for page_num in range(1, document.page_count):\n",
    "    page = document.load_page(page_num)\n",
    "    text += page.get_text()\n",
    "\n",
    "# Mostrar una parte del texto para verificar la extracción\n",
    "print(text[1500:3000])  # Mostrar los primeros 2000 caracteres\n"
   ]
  },
  {
   "cell_type": "code",
   "execution_count": 54,
   "metadata": {},
   "outputs": [
    {
     "data": {
      "text/plain": [
       "[{'term': 'Acceso a la energía (energy access):',\n",
       "  'definition': 'Acceso a servicios energéticos limpios, fiables y asequibles para la cocina y la calefacción, la iluminación, las comunicaciones y usos productivos (Grupo asesor sobre energía y cambio climático, 2010).'},\n",
       " {'term': 'Acción voluntaria (voluntary action):',\n",
       "  'definition': 'Programas informales, compromisos propios y declaraciones en las que las partes involucradas en la acción (compañías o grupos de compañías) establecen sus propias metas y, a menudo, crean sus propios sistemas de seguimiento y reporte.'},\n",
       " {'term': 'Acuerdo (agreement):',\n",
       "  'definition': 'En el presente Informe, el grado de acuerdo es el nivel de coincidencia en la literatura científica acerca de una conclusión determinada, según la evaluación de los autores. Véanse también Evidencia, Confianza, Probabilidad e Incertidumbre.'},\n",
       " {'term': 'Acuerdo de Copenhague (Copenhagen Accord):',\n",
       "  'definition': 'Acuerdo político (sin carácter jurídico) al que se llegó en el 15º período de sesiones de la Conferencia de las Partes (CP) en el que los delegados ‘convinieron en tomar nota’, debido a la ausencia de consenso que precisaría un acuerdo. Algunos de los principales elementos incluyen: el reconocimiento de la importancia de la opinión científica acerca de la necesidad de limitar el aumento en la temperatura media global en superficie por debajo de 2 °C; el compromiso de las Partes incluidas en el anexo I de aplicar los objetivos de reducción de las emisiones relativas al conjunto de la economía para 2020, y el compromiso de las Partes no incluidas en el anexo I de aplicar medidas de mitigación; para las Partes incluidas en el anexo I, el acuerdo de asumir objetivos de emisión y el cumplimiento de los compromisos de financiación destinada a los países en desarrollo sujetos a medición, notificación y verificación (MRV), y para los países en desarrollo, el sometimiento a medición, notificación y verificación a nivel nacional de las medidas adoptadas; la petición de mayor financiación, en particular una financiación acelerada por valor de 30 000 millones de dólares de Estados Unidos y de 100 000 millones de dólares Estados Unidos en 2020; el establecimiento de un nuevo Fondo Verde para el Clima; y la creación de un nuevo mecanismo tecnológico. Algunos de esos elementos se adoptaron posteriormente en los Acuerdos de Cancún.'},\n",
       " {'term': 'Acuerdo voluntario (voluntary agreement):',\n",
       "  'definition': 'Acuerdo entre una autoridad gubernamental y una o varias partes privadas para lograr objetivos ambientales o mejorar los resultados ambientales más allá del cumplimiento de las obligaciones reguladas. No todos los acuerdos voluntarios son verdaderamente voluntarios; algunos de ellos incluyen gratificaciones y/o sanciones asociadas con la adhesión a los compromisos o su cumplimiento.'}]"
      ]
     },
     "execution_count": 54,
     "metadata": {},
     "output_type": "execute_result"
    }
   ],
   "source": [
    "# Expresión regular para encontrar los términos del glosario\n",
    "term_pattern = re.compile(r\"(?<=\\n)([A-ZÁÉÍÓÚÑ][A-Za-zÁÉÍÓÚÑáéíóúñ\\s()/\\-]+:)\", re.MULTILINE)\n",
    "\n",
    "# Encontrar todos los términos en el texto\n",
    "terms = term_pattern.findall(text)\n",
    "\n",
    "# Dividir el texto en términos y sus definiciones\n",
    "glossary = []\n",
    "for i, term in enumerate(terms):\n",
    "    try:\n",
    "        start = text.index(term) + len(term)\n",
    "        end = text.index(terms[i + 1])\n",
    "        definition = text[start:end].strip()\n",
    "    except IndexError:\n",
    "        definition = text[start:].strip()\n",
    "    glossary.append({\"term\": term.replace(\"-\\n\",\"\").replace(\"\\n\",\"\").strip(), \"definition\": definition.replace(\"-\\n\",\"\").replace(\"\\n\",\"\").strip()})\n",
    "\n",
    "# Guardar en un archivo JSON\n",
    "with open(TF_DIR+\"glossary.json\", \"w\", encoding=\"utf-8\") as json_file:\n",
    "    json.dump(glossary, json_file, ensure_ascii=False, indent=4)\n"
   ]
  },
  {
   "cell_type": "code",
   "execution_count": 56,
   "metadata": {},
   "outputs": [
    {
     "data": {
      "text/plain": [
       "[{'term': 'Acceso a la energía (energy access):',\n",
       "  'definition': 'Acceso a servicios energéticos limpios, fiables y asequibles para la cocina y la calefacción, la iluminación, las comunicaciones y usos productivos (Grupo asesor sobre energía y cambio climático, 2010).'},\n",
       " {'term': 'Acción voluntaria (voluntary action):',\n",
       "  'definition': 'Programas informales, compromisos propios y declaraciones en las que las partes involucradas en la acción (compañías o grupos de compañías) establecen sus propias metas y, a menudo, crean sus propios sistemas de seguimiento y reporte.'},\n",
       " {'term': 'Acuerdo (agreement):',\n",
       "  'definition': 'En el presente Informe, el grado de acuerdo es el nivel de coincidencia en la literatura científica acerca de una conclusión determinada, según la evaluación de los autores. Véanse también Evidencia, Confianza, Probabilidad e Incertidumbre.'},\n",
       " {'term': 'Acuerdo de Copenhague (Copenhagen Accord):',\n",
       "  'definition': 'Acuerdo político (sin carácter jurídico) al que se llegó en el 15º período de sesiones de la Conferencia de las Partes (CP) en el que los delegados ‘convinieron en tomar nota’, debido a la ausencia de consenso que precisaría un acuerdo. Algunos de los principales elementos incluyen: el reconocimiento de la importancia de la opinión científica acerca de la necesidad de limitar el aumento en la temperatura media global en superficie por debajo de 2 °C; el compromiso de las Partes incluidas en el anexo I de aplicar los objetivos de reducción de las emisiones relativas al conjunto de la economía para 2020, y el compromiso de las Partes no incluidas en el anexo I de aplicar medidas de mitigación; para las Partes incluidas en el anexo I, el acuerdo de asumir objetivos de emisión y el cumplimiento de los compromisos de financiación destinada a los países en desarrollo sujetos a medición, notificación y verificación (MRV), y para los países en desarrollo, el sometimiento a medición, notificación y verificación a nivel nacional de las medidas adoptadas; la petición de mayor financiación, en particular una financiación acelerada por valor de 30 000 millones de dólares de Estados Unidos y de 100 000 millones de dólares Estados Unidos en 2020; el establecimiento de un nuevo Fondo Verde para el Clima; y la creación de un nuevo mecanismo tecnológico. Algunos de esos elementos se adoptaron posteriormente en los Acuerdos de Cancún.'},\n",
       " {'term': 'Acuerdo voluntario (voluntary agreement):',\n",
       "  'definition': 'Acuerdo entre una autoridad gubernamental y una o varias partes privadas para lograr objetivos ambientales o mejorar los resultados ambientales más allá del cumplimiento de las obligaciones reguladas. No todos los acuerdos voluntarios son verdaderamente voluntarios; algunos de ellos incluyen gratificaciones y/o sanciones asociadas con la adhesión a los compromisos o su cumplimiento.'}]"
      ]
     },
     "execution_count": 56,
     "metadata": {},
     "output_type": "execute_result"
    }
   ],
   "source": [
    "# Mostrar una parte del glosario para verificar\n",
    "glossary[:5]  # Mostrar los primeros 5 términos y definiciones"
   ]
  },
  {
   "cell_type": "code",
   "execution_count": 59,
   "metadata": {},
   "outputs": [
    {
     "data": {
      "text/plain": [
       "[{'term': 'Variabilidad climática (climate variability):',\n",
       "  'definition': 'Denota las variaciones del estado medio y otras características estadísticas (desviación típica, fenómenos extremos, etc.) del clima en todas las escalas espaciales y temporales más amplias que las de los fenómenos meteorológicos. La variabilidad puede deberse a procesos internos naturales del sistema climático (variabilidad interna) o a variaciones del forzamiento externo natural o antropógeno (variabilidad externa). Véase también Cambio climático.Vatios por metro cuadrado (W/m2) (watts per square meter): Véase Forzamiento radiativo.'},\n",
       " {'term': 'Vector energético (energy carrier):',\n",
       "  'definition': 'Sustancia que facilita la realización de un trabajo mecánico o la transferencia de calor. Entre los vectores energéticos cabe citar los combustibles sólidos, líquidos y gaseosos (p. ej., la biomasa, el carbón, el petróleo, el gas natural o el hidrógeno); los fluidos presurizados/calentados/enfriados (aire, agua o vapor), y la corriente eléctrica.'},\n",
       " {'term': 'Vehículo híbrido (hybrid vehicle):',\n",
       "  'definition': 'Cualquier vehículo que emplea dos fuentes de propulsión, en particular un vehículo que combina un motor de combustión interna con un motor eléctrico'},\n",
       " {'term': 'Viabilidad institucional (institutional feasibility):',\n",
       "  'definition': 'Se compone de dos partes principales: 1) la magnitud de la carga de trabajo administrativa, tanto para las autoridades públicas como para las entidades reguladas, y 2) la medida en que la política se considera legítima, gana aceptación, y es adoptada y ejecutada.151151Glosario, y siglas, abreviaturas y símbolos químicosAnexoAnexoSiglas, abreviaturas y símbolos químicosAFOLU\\tagricultura, silvicultura y otros usos del sueloAI\\tpaíses incluidos en el anexo IALC\\tAmérica Latina y el CaribeAML\\tAmérica LatinaAMN\\tAmérica del NorteAPC\\tpaíses de Asia con planificación centralizada y ChinaASM\\tAsia MeridionalASP\\tAsia Sudoriental y PacíficoASO\\tAsia OrientalASS\\tÁfrica SubsaharianaBECCS\\tbioenergía con captura y almacenamiento de dióxido de carbonoCAC\\tcaptura y almacenamiento de dióxido de carbonoCER\\treducciones certificadas de las emisionesCFC\\tclorofluorocarbonosCH4\\tmetanoCMIP5\\tquinta fase del Proyecto de comparación de modelos acopladosCMNUCC\\tConvención Marco de las Naciones Unidas sobre el Cambio Climático CO2\\tdióxido de carbonoCO2eq\\tCO2-equivalente DBO\\tdemanda bioquímica de oxígenoDCC\\tdistrito comercial centralDSM\\tdesechos sólidos municipalesEET\\teconomías en transiciónEE. UU.\\tEstados UnidosEOC\\tEuropa OccidentalEOR\\tEuropa Central y OrientalEUS\\tex Unión SoviéticaFOLU\\tsilvicultura y otros usos del sueloGEA\\tGlobal Energy AssessmentGEI\\tgases de efecto invernadero GMI\\tIniciativa Global del MetanoGNC\\tgas natural comprimidoGt\\tgigatoneladaGTIII\\tGrupo de trabajo IIIGTIII IE5\\tcontribución del Grupo de trabajo III al Quinto Informe de Evaluación H2\\thidrógenohab\\thabitanteHadCRUT4\\tconjunto 4 de datos reticulares de la temperatura en superficie del Centro Hadley/Unidad de investigación climáticaHCFC\\thidroclorofluorocarbonosHFC\\thidrofluorocarbonosIA\\tIngresos altosIB\\tIngresos bajosI+D\\tinvestigación y desarrolloIE4\\tCuarto Informe de EvaluaciónIE5\\tQuinto Informe de EvaluaciónIMA\\tIngresos medianos altosIMB\\tIngresos medianos bajosKRV\\tkilómetros recorridos por vehículoLULUCF\\tuso del suelo, cambio de uso del suelo y silviculturaMDL\\tMecanismo para un desarrollo limpioMEF\\tForo de las principales economías sobre energía y climaMRV\\tmedición, notificación y verificaciónn.d.\\tno disponibleNAI\\tpaíses no incluidos en el anexo IN2O\\tóxido nitrosoNOx\\tóxido de nitrógenoOACI\\tOrganización de Aviación Civil InternacionalOAF\\tOriente Medio y ÁfricaOAS\\tOriente Medio y África septentrionalOCDE\\tOrganización de Cooperación y Desarrollo EconómicosOCDEP\\tOCDE, PacíficoOMC\\tOrganización Mundial del ComercioOMI\\tOrganización Marítima InternacionalPC1\\tprimer período de compromisoPC2\\tsegundo período de compromisoPCG\\tpotencial de calentamiento globalPCG100\\tpotencial de calentamiento global con un horizonte temporal de 100 añosPIB\\tproducto interno brutoPK\\tProtocolo de KyotoPMA\\tpaíses menos adelantadosPME\\tpequeña y mediana empresaRCDE UE\\trégimen de comercio de derechos de emisión de la Unión EuropeaREDD\\tReducción de las emisiones debidas a la deforestación y la degradación forestalREEEP\\tAlianza para la Energía Renovable y la Eficiencia EnergéticaSO2\\tdióxido de azufreSRREN\\tInforme especial sobre fuentes de energía renovables y mitigación del cambio climáticotCO2\\ttoneladas de CO2VUD\\tvehículos utilitarios deportivos152152Glosario, y siglas, abreviaturas y símbolos químicosAnexoAnexoReferenciasBrunner, P. H. y H. Rechberger (2004). Practical handbook of material flow analysis. The International Journal of Life Cycle Assessment, 9(5), 337-338.Cobo, J.R.M. (1987). Study of the problem of discrimination against indigenous populations. Sub-commission on Prevention of Discrimination and Protection of Minorities. Nueva York: Naciones Unidas, 1987.Comisión Mundial sobre el Medio Ambiente y el Desarrollo (1987). Our Common Future. Oxford University Press, Oxford, Reino Unido.Consejo Ártico (2013). Glossary of terms. En: Arctic Resilience Interim Report 2013. Stockholm Environment Institute y Stockholm Resilience Centre, Estocolmo, Suecia.Consejo empresarial mundial de desarrollo sostenible e Instituto de Recursos Mundiales (WRI). (2004). The Greenhouse Gas Protocol - A Corporate Accounting and Reporting Standard. Ginebra y Washington, DC.Convención de las Naciones Unidas de Lucha contra la Desertificación (1994). Artículo 1: Términos utilizados. Convención de las Naciones Unidas de Lucha contra la Desertificación. 17 de junio de 1994: París, Francia. Convención Marco de las Naciones Unidas sobre el Cambio Climático (2000). Informe de la Conferencia de las Partes sobre su séptimo período de sesiones, celebrado en Marrakech del 29 de octubre al 10 de noviembre de 2001. Adición. Segunda parte: Medidas adoptadas por la Conferencia de las Partes. (FCCC/CP/2001/13/Add.1).Ehrlich, P. R. y J.P. Holdren (1971). Impact of population growth. Science, 171(3977), 1212-1217. Evaluación de Ecosistemas del Milenio (2005). Ecosystems and Human Well- being: Current States and Trends. Instituto de Recursos Mundiales, Washington, D.C. [Apéndice D, pág. 893].Grupo Asesor sobre energía y cambio climático del Secretario General de las Naciones Unidas (AGECC) (2010). Energy for a Sustainable Future. Nueva York, NY, Estados Unidos de América.Hertel, T. T. W. (1997). Global trade analysis: modeling and applications. T. W. Hertel (Ed.). Cambridge University Press, Cambridge, Reino Unido.Heywood, V.H. (ed.) (1995). The Global Biodiversity Assessment. Programa de las Naciones Unidas para el Desarrollo. Cambridge University Press, Cambridge, Reino Unido.IPCC (1992). Climate Change 1992: The Supplementary Report to the IPCC Scientific Assessment [Houghton, J.T., B.A. Callander, y S.K. Varney (eds.)]. Cambridge University Press, Cambridge, Reino Unido y Nueva York, NY, Estados Unidos de América, 116 págs.— (1996). Climate Change 1995: The Science of Climate Change. Contribution of Working Group I to the Second Assessment Report of the Intergovernmental Panel on Climate Change [Houghton, J.T., L.G. Meira Filho, B.A. Callander, N. Harris, A. Kattenberg, y K. Maskell (eds.)]. Cambridge University Press, Cambridge, Reino Unido y Nueva York, NY, Estados Unidos de América, 572 págs.— (2000). Land Use, Land-Use Change, and Forestry. Special Report of the Intergovernmental Panel on Climate Change [Watson, R.T., I.R. Noble, B. Bolin, N.H. Ravindranath, D.J. Verardo, y D.J. Dokken (eds.)]. Cambridge University Press, Cambridge, Reino Unido y Nueva York, NY, Estados Unidos de América, 377 págs.— (2001). Climate Change 2001: The Scientific Basis. Contribution of Working Group I to the Third Assessment Report of the Intergovernmental Panel on Climate Change [Houghton, J.T., Y. Ding, D.J. Griggs, M. Noguer, P.J. van der Linden, X. Dai, K. Maskell, y C.A. Johnson (eds.)]. Cambridge University Press, Cambridge, Reino Unido y Nueva York, NY, Estados Unidos de América, 881 págs.— (2003). Definitions and Methodological Options to Inventory Emissions from Direct Human-Induced Degradation of Forests and Devegetation of Other Vegetation Types [Penman, J., M. Gytarsky, T. Hiraishi, T. Krug, D. Kruger, R. Pipatti, L. Buendia, K. Miwa, T. Ngara, K. Tanabe, y F. Wagner (eds.)]. The Institute for Global Environmental Strategies (IGES), Japón , 32 págs.— (2006). Directrices del IPCC de 2006 para los inventarios nacionales de gases de efecto invernadero, preparado por el Programa de inventarios nacionales de gases de efecto invernadero [Eggleston H.S., L. Buendia, K. Miwa, T. Ngara y K. Tanabe K. (eds.)]. Institute for Global Environmental Strategies (IGES), Japón.— (2007). Climate Change 2007: The Physical Science Basis. Contribution of Working Group I to the Fourth Assessment Report of the Intergovernmental Panel on Climate Change [Solomon, S., D. Qin, M. Manning, Z. Chen, M. Marquis, K.B. Averyt, M. Tignor, y H.L. Miller (eds.)]. Cambridge University Press, Cambridge, Reino Unido y Nueva York, NY, Estados Unidos de América, 996 págs.— (2012). Meeting Report of the Intergovernmental Panel on Climate Change Expert Meeting on Geoengineering [O. Edenhofer, R. Pichs-Madruga, Y. Sokona, C. Field, V. Barros, T.F. Stocker, Q. Dahe, J. Minx, K. Mach, G.-K. Plattner, S. Schlömer, G. Hansen, y M. Mastrandrea (eds.)]. Unidad de apoyo técnico del Grupo de trabajo III del IPCC, Potsdam Institute for Climate Impact Research, Potsdam, Alemania, 99 págs.Manning, M.R., M. Petit, D. Easterling, J. Murphy, A. Patwardhan, H-H. Rogner, R. Swart, y G. Yohe (eds.) (2004). IPCC Workshop on Describing Scientific Uncertainties in Climate Change to Support Analysis of Risk of Options. Workshop Report. Grupo Intergubernamental de Expertos sobre el Cambio Climático, Ginebra, Suiza.Mastrandrea, M.D., C.B. Field, T.F. Stocker, O. Edenhofer, K.L. Ebi, D.J. Frame, H. Held, E. Kriegler, K.J. Mach, P.R. Matschoss, G.-K. Plattner, G.W. Yohe, y F.W. Zwiers (2010). Guidance Note for Lead Authors of the IPCC Fifth Assessment Report on Consistent Treatment of Uncertainties. Grupo Intergubernamental de Expertos sobre el Cambio Climático (IPCC). Publicado en línea en: http://www.ipcc-wg2.gov/meetings/CGCs/index.html#URMichaelowa, A., M. Stronzik., F. Eckermann, y A. Hunt (2003). Transaction costs of the Kyoto Mechanisms. Climate policy, 3(3), 261-278.Moss, R., y S. Schneider (2000). Uncertainties in the IPCC TAR: Recommendations to Lead Authors for More Consistent Assessment and Reporting. En: IPCC'},\n",
       " {'term': 'Supporting Material:',\n",
       "  'definition': 'Guidance Papers on Cross Cutting Issues in the Third Assessment Report of the IPCC [Pachauri, R., T. Taniguchi, y K. Tanaka (eds.)]. Grupo Intergubernamental de Expertos sobre el Cambio Climático, Ginebra, Suiza, págs. 33 a 51.Moss, R., M. Babiker, S. Brinkman, E. Calvo, T. Carter, J. Edmonds, I. Elgizouli, S. Emori, L. Erda, K. Hibbard, R. Jones, M. Kainuma, J. Kelleher, J.F. Lamarque, M. Manning, B. Matthews, J. Meehl, L. Meyer, J. Mitchell, N. Nakicenovic, B. O’Neill, R. Pichs, K. Riahi, S. Rose, P. Runci, R. Stouffer, D. van Vuuren, J. Weyant, T. Wilbanks, J.P. van Ypersele, y M. Zurek (2008). Towards new scenarios for analysis of emissions, climate change, impacts and response strategies. Grupo Intergubernamental de Expertos sobre el Cambio Climático, Ginebra, Suiza, 132 págs.153153Glosario, y siglas, abreviaturas y símbolos químicosAnexoAnexoMoss, R., J.A. Edmonds, K.A. Hibbard, M.R. Manning, S.K. Rose, D.P. van Vuuren, T.R. Carter, S. Emori, M. Kainuma, T. Kram, G.A. Meehl, J.F.B. Mitchell, N. Nakicenovic, K. Riahi, S.J. Smith, R.J. Stouffer, A.M. Thomson, J.P. Weyant, y T.J. Wilbanks (2010). The next generation of scenarios for climate change research and assessment. Nature, 463, 747-756.Nakićenović, N. y R. Swart (eds.) (2000). Special Report on Emissions Scenarios. A Special Report of Working Group III of the Intergovernmental Panel on Climate Change. Cambridge University Press, Cambridge, Reino Unido y Nueva York, NY, Estados Unidos de América, 599 págs.Organización de las Naciones Unidas para la Alimentación y la Agricultura (FAO) (2000). El estado de la inseguridad alimentaria en el mundo 2000. Roma, Italia.Rogner, H. H. (1997). An assessment of world hydrocarbon resources. Annual review of energy and the environment, 22(1), 217-262.Weyant, J. P. y T. Olavson (1999). Issues in modeling induced technological change in energy, environmental, and climate policy. Environmental Modeling & Assessment, 4(2-3), 67-85.Wiedmann, T. y J. Minx (2007). A definition of carbon footprint. Ecological economics research trends, 1, 1-11.Wiener, J. B. y J. D. Graham (2009). Risk vs. risk: Tradeoffs in protecting health and the environment. Harvard University Press, Cambridge, MA, Estados Unidos de América'}]"
      ]
     },
     "execution_count": 59,
     "metadata": {},
     "output_type": "execute_result"
    }
   ],
   "source": [
    "# Mostrar una parte del glosario para verificar\n",
    "glossary[-5:]  # Mostrar los últimos 5 términos y definiciones"
   ]
  },
  {
   "cell_type": "code",
   "execution_count": 61,
   "metadata": {},
   "outputs": [
    {
     "data": {
      "text/plain": [
       "{'term': 'Supporting Material:',\n",
       " 'definition': 'Guidance Papers on Cross Cutting Issues in the Third Assessment Report of the IPCC [Pachauri, R., T. Taniguchi, y K. Tanaka (eds.)]. Grupo Intergubernamental de Expertos sobre el Cambio Climático, Ginebra, Suiza, págs. 33 a 51.Moss, R., M. Babiker, S. Brinkman, E. Calvo, T. Carter, J. Edmonds, I. Elgizouli, S. Emori, L. Erda, K. Hibbard, R. Jones, M. Kainuma, J. Kelleher, J.F. Lamarque, M. Manning, B. Matthews, J. Meehl, L. Meyer, J. Mitchell, N. Nakicenovic, B. O’Neill, R. Pichs, K. Riahi, S. Rose, P. Runci, R. Stouffer, D. van Vuuren, J. Weyant, T. Wilbanks, J.P. van Ypersele, y M. Zurek (2008). Towards new scenarios for analysis of emissions, climate change, impacts and response strategies. Grupo Intergubernamental de Expertos sobre el Cambio Climático, Ginebra, Suiza, 132 págs.153153Glosario, y siglas, abreviaturas y símbolos químicosAnexoAnexoMoss, R., J.A. Edmonds, K.A. Hibbard, M.R. Manning, S.K. Rose, D.P. van Vuuren, T.R. Carter, S. Emori, M. Kainuma, T. Kram, G.A. Meehl, J.F.B. Mitchell, N. Nakicenovic, K. Riahi, S.J. Smith, R.J. Stouffer, A.M. Thomson, J.P. Weyant, y T.J. Wilbanks (2010). The next generation of scenarios for climate change research and assessment. Nature, 463, 747-756.Nakićenović, N. y R. Swart (eds.) (2000). Special Report on Emissions Scenarios. A Special Report of Working Group III of the Intergovernmental Panel on Climate Change. Cambridge University Press, Cambridge, Reino Unido y Nueva York, NY, Estados Unidos de América, 599 págs.Organización de las Naciones Unidas para la Alimentación y la Agricultura (FAO) (2000). El estado de la inseguridad alimentaria en el mundo 2000. Roma, Italia.Rogner, H. H. (1997). An assessment of world hydrocarbon resources. Annual review of energy and the environment, 22(1), 217-262.Weyant, J. P. y T. Olavson (1999). Issues in modeling induced technological change in energy, environmental, and climate policy. Environmental Modeling & Assessment, 4(2-3), 67-85.Wiedmann, T. y J. Minx (2007). A definition of carbon footprint. Ecological economics research trends, 1, 1-11.Wiener, J. B. y J. D. Graham (2009). Risk vs. risk: Tradeoffs in protecting health and the environment. Harvard University Press, Cambridge, MA, Estados Unidos de América'}"
      ]
     },
     "execution_count": 61,
     "metadata": {},
     "output_type": "execute_result"
    }
   ],
   "source": [
    "# Eliminar el último elemento de la lista, ya que no forma parte del glosario\n",
    "glossary.pop()"
   ]
  }
 ],
 "metadata": {
  "kernelspec": {
   "display_name": "ingestion-venv",
   "language": "python",
   "name": "python3"
  },
  "language_info": {
   "codemirror_mode": {
    "name": "ipython",
    "version": 3
   },
   "file_extension": ".py",
   "mimetype": "text/x-python",
   "name": "python",
   "nbconvert_exporter": "python",
   "pygments_lexer": "ipython3",
   "version": "3.10.12"
  }
 },
 "nbformat": 4,
 "nbformat_minor": 2
}
